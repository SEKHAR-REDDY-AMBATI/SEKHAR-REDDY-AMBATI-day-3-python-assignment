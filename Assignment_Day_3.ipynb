{
  "nbformat": 4,
  "nbformat_minor": 0,
  "metadata": {
    "colab": {
      "name": "Assignment_Day_3.ipynb",
      "provenance": [],
      "collapsed_sections": []
    },
    "kernelspec": {
      "name": "python3",
      "display_name": "Python 3"
    },
    "language_info": {
      "name": "python"
    }
  },
  "cells": [
    {
      "cell_type": "code",
      "metadata": {
        "id": "1EfTiA-r6LuO"
      },
      "source": [
        "#List: A List is a set of elements used in programming, separated by commas and enclosed with sqare brackets."
      ],
      "execution_count": null,
      "outputs": []
    },
    {
      "cell_type": "code",
      "metadata": {
        "colab": {
          "base_uri": "https://localhost:8080/"
        },
        "id": "j8_26p716b_6",
        "outputId": "efa41439-80e5-4aeb-f3b2-fe9dd9a613c2"
      },
      "source": [
        "A = [1,2,3,4,5]\n",
        "print (A);"
      ],
      "execution_count": null,
      "outputs": [
        {
          "output_type": "stream",
          "text": [
            "[1, 2, 3, 4, 5]\n"
          ],
          "name": "stdout"
        }
      ]
    },
    {
      "cell_type": "code",
      "metadata": {
        "id": "4MA3nOUH7jSQ"
      },
      "source": [
        "#Dict: Dict is a term for the  Dictionary Data type in python. It can be created by placing values inside {}. \n",
        "#As normal dictionary does python dictionary also stores the key, and the value like a word and its meaning."
      ],
      "execution_count": null,
      "outputs": []
    },
    {
      "cell_type": "code",
      "metadata": {
        "colab": {
          "base_uri": "https://localhost:8080/"
        },
        "id": "hzx9AxZk8dFw",
        "outputId": "5104f0ee-c799-4af4-cd05-79854b067e5d"
      },
      "source": [
        "Dict = {1:'Apple',2:'Balloon'};\n",
        "print (Dict.get(1));\n",
        "print (Dict.get(2));\n",
        "#As python was a dynamically interpreted language, it executes the command step-by-step."
      ],
      "execution_count": null,
      "outputs": [
        {
          "output_type": "stream",
          "text": [
            "Apple\n",
            "Balloon\n"
          ],
          "name": "stdout"
        }
      ]
    },
    {
      "cell_type": "code",
      "metadata": {
        "id": "Ee44zxaP9h94"
      },
      "source": [
        "#Tuple:  A Tuple is a set of elements used in programming, separated by commas and enclosed with parenthesis. It cannot be mutable,once created. So, it was used in the fields of Security where it is needed,\n",
        "#anonymous cannot change the values inside the tuple."
      ],
      "execution_count": null,
      "outputs": []
    },
    {
      "cell_type": "code",
      "metadata": {
        "colab": {
          "base_uri": "https://localhost:8080/"
        },
        "id": "TQNjOolw-L3w",
        "outputId": "21cf32c4-4370-4315-8bfd-37b803ff2599"
      },
      "source": [
        "Tuple = (1,2,3,4,5)\n",
        "print (Tuple);"
      ],
      "execution_count": null,
      "outputs": [
        {
          "output_type": "stream",
          "text": [
            "(1, 2, 3, 4, 5)\n"
          ],
          "name": "stdout"
        }
      ]
    },
    {
      "cell_type": "code",
      "metadata": {
        "id": "21nOtVZl-1hT"
      },
      "source": [
        "#A set is  created by placing all the items (elements) inside curly braces {}, separated by comma, or by using the built-in set() function.\n",
        "\n",
        "#It can have any number of items and they may be of different types (integer, float, tuple, string etc.) And elements won't get repeated inside the set."
      ],
      "execution_count": null,
      "outputs": []
    },
    {
      "cell_type": "code",
      "metadata": {
        "colab": {
          "base_uri": "https://localhost:8080/"
        },
        "id": "mu7MruvMDDzN",
        "outputId": "36715116-42a5-4cdd-ac94-25db7811a1d9"
      },
      "source": [
        "Set = {1,2,3,4,5,6}\n",
        "print (Set)"
      ],
      "execution_count": null,
      "outputs": [
        {
          "output_type": "stream",
          "text": [
            "{1, 2, 3, 4, 5, 6}\n"
          ],
          "name": "stdout"
        }
      ]
    },
    {
      "cell_type": "code",
      "metadata": {
        "id": "mUMAsD92DN7L"
      },
      "source": [
        "#String : String was a data type in python. It is generally known as the sequence of characters i single or double quotes."
      ],
      "execution_count": null,
      "outputs": []
    },
    {
      "cell_type": "code",
      "metadata": {
        "colab": {
          "base_uri": "https://localhost:8080/"
        },
        "id": "mAN2OpxCEO1f",
        "outputId": "0c64373a-f589-4986-9ea0-28f351832eee"
      },
      "source": [
        "String = \"Welcome to Ansar's Colab\"\n",
        "print (String)"
      ],
      "execution_count": null,
      "outputs": [
        {
          "output_type": "stream",
          "text": [
            "Welcome to Ansar's Colab\n"
          ],
          "name": "stdout"
        }
      ]
    }
  ]
}